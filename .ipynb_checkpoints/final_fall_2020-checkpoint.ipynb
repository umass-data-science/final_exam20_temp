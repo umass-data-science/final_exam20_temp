{
 "cells": [
  {
   "cell_type": "markdown",
   "metadata": {},
   "source": [
    "# Final Exam Fall 2020\n",
    "\n",
    "**Instructions**\n",
    "\n",
    "The exam should be turned in as an .ipynb file on Moodle by 9:00am eastern on Wednesday 12/2.  The maximum score for late exams will be reduced by 1 letter grade per 3 hours of lateness with a maximum lateness penalty of three letter grades.  Exams turned in more than 24 hours late will receive no credit.\n",
    "\n",
    "Answer each question using only one cell.  You may create a copy of this notebook and open additional cells for testing, but when you turn in the exam, please only have one cell per question.  Partial credit will be given.  It is easier to give partial credit if you comment your code to say what each line is doing, or trying to do.  If you can't solve a problem fully, try solving part of it for partial credit.\n",
    "\n",
    "**Do not import additional libraries.  Use only the libraries already included below.**\n",
    "\n",
    "Please **DO NOT** post questions of clarification to Piazza.  Since not all students are taking the exam at the same time, this might create an unfair advantage.\n",
    "\n",
    "The solutions should be displayed in the notebook.  Each question requires only one thing to be displayed.  You don't need to display any intermediate steps you may have taken.\n",
    "\n",
    "Each question is worth the same number of points."
   ]
  },
  {
   "cell_type": "markdown",
   "metadata": {},
   "source": [
    "## 1. Setup\n",
    "Run the two cells below to load the packages and data necessary for this exam.\n",
    "\n",
    "The dataset `diamonds` contains data on 500 diamonds.  A row of table is a single diamond.\n",
    "\n",
    "    carat = The weight of the diamond in carats\n",
    "    color = a letter signifying the color of the diamond\n",
    "    price = the price of the diamond in dollars"
   ]
  },
  {
   "cell_type": "code",
   "execution_count": 69,
   "metadata": {},
   "outputs": [],
   "source": [
    "from datascience import *\n",
    "import numpy as np\n",
    "import matplotlib\n",
    "%matplotlib inline"
   ]
  },
  {
   "cell_type": "code",
   "execution_count": 70,
   "metadata": {},
   "outputs": [
    {
     "data": {
      "text/html": [
       "<table border=\"1\" class=\"dataframe\">\n",
       "    <thead>\n",
       "        <tr>\n",
       "            <th>carat</th> <th>color</th> <th>price</th>\n",
       "        </tr>\n",
       "    </thead>\n",
       "    <tbody>\n",
       "        <tr>\n",
       "            <td>0.82 </td> <td>D    </td> <td>3159 </td>\n",
       "        </tr>\n",
       "        <tr>\n",
       "            <td>1    </td> <td>E    </td> <td>6732 </td>\n",
       "        </tr>\n",
       "        <tr>\n",
       "            <td>0.53 </td> <td>F    </td> <td>1142 </td>\n",
       "        </tr>\n",
       "        <tr>\n",
       "            <td>0.35 </td> <td>E    </td> <td>767  </td>\n",
       "        </tr>\n",
       "        <tr>\n",
       "            <td>1.01 </td> <td>D    </td> <td>4004 </td>\n",
       "        </tr>\n",
       "        <tr>\n",
       "            <td>0.54 </td> <td>D    </td> <td>1662 </td>\n",
       "        </tr>\n",
       "        <tr>\n",
       "            <td>0.3  </td> <td>D    </td> <td>574  </td>\n",
       "        </tr>\n",
       "        <tr>\n",
       "            <td>1.22 </td> <td>G    </td> <td>8793 </td>\n",
       "        </tr>\n",
       "        <tr>\n",
       "            <td>0.31 </td> <td>G    </td> <td>931  </td>\n",
       "        </tr>\n",
       "        <tr>\n",
       "            <td>1    </td> <td>E    </td> <td>7528 </td>\n",
       "        </tr>\n",
       "    </tbody>\n",
       "</table>\n",
       "<p>... (490 rows omitted)</p>"
      ],
      "text/plain": [
       "carat | color | price\n",
       "0.82  | D     | 3159\n",
       "1     | E     | 6732\n",
       "0.53  | F     | 1142\n",
       "0.35  | E     | 767\n",
       "1.01  | D     | 4004\n",
       "0.54  | D     | 1662\n",
       "0.3   | D     | 574\n",
       "1.22  | G     | 8793\n",
       "0.31  | G     | 931\n",
       "1     | E     | 7528\n",
       "... (490 rows omitted)"
      ]
     },
     "execution_count": 70,
     "metadata": {},
     "output_type": "execute_result"
    }
   ],
   "source": [
    "diamonds = Table.read_table(\"diamonds1.csv\")\n",
    "diamonds"
   ]
  },
  {
   "cell_type": "markdown",
   "metadata": {},
   "source": [
    "**Question 1:** Create a table that contains the average price of each ```color``` of diamond.  Column names for this table should be ```color``` and ``average_price``"
   ]
  },
  {
   "cell_type": "code",
   "execution_count": null,
   "metadata": {},
   "outputs": [],
   "source": []
  },
  {
   "cell_type": "markdown",
   "metadata": {},
   "source": [
    "**Question 2:** Create a table that contains only diamonds of color D, and price greater than 2000"
   ]
  },
  {
   "cell_type": "code",
   "execution_count": null,
   "metadata": {},
   "outputs": [],
   "source": []
  },
  {
   "cell_type": "markdown",
   "metadata": {},
   "source": [
    "**Question 3:** Assume this is a random sample of diamond prices in the New York diamond market.  Calculate an 80% confidence interval for the population mean of all diamond prices in the New York diamond market.  \n",
    "\n",
    "You should calculate this using the bootstrap (not probability theory)."
   ]
  },
  {
   "cell_type": "code",
   "execution_count": 30,
   "metadata": {},
   "outputs": [],
   "source": []
  },
  {
   "cell_type": "markdown",
   "metadata": {},
   "source": [
    "**Question 4:** Suppose the following array called `model_predictions` contains predictions of diamond prices from a model.  The first element of the model_predictions array corresponds to the first diamond in the data and so on.  \n",
    "\n",
    "What is the residual of the first diamond in the data?  \n",
    "\n",
    "What is the root mean squared error of the model?"
   ]
  },
  {
   "cell_type": "code",
   "execution_count": 64,
   "metadata": {},
   "outputs": [],
   "source": [
    "#run this cell, but do not change it!!\n",
    "np.random.seed(1234)\n",
    "model_predictions = np.random.rand(500)*2000"
   ]
  },
  {
   "cell_type": "code",
   "execution_count": null,
   "metadata": {},
   "outputs": [],
   "source": [
    "#residual_of_first_diamond:\n"
   ]
  },
  {
   "cell_type": "code",
   "execution_count": null,
   "metadata": {},
   "outputs": [],
   "source": [
    "#rmse of the model:"
   ]
  },
  {
   "cell_type": "markdown",
   "metadata": {},
   "source": [
    "**Question 5:** Consider only the diamond price and carat weight.  Build a regression model that predicts the price given the carat weight.  What is the predicted model price on a diamond with a weight of 2 carats?  \n",
    "\n",
    "Your solution should be in the form of a function that takes a carat weight as an argument and outputs a predicted price.\n",
    "\n",
    "**Do NOT use the minimize function in your code**"
   ]
  },
  {
   "cell_type": "code",
   "execution_count": null,
   "metadata": {},
   "outputs": [],
   "source": []
  },
  {
   "cell_type": "markdown",
   "metadata": {},
   "source": [
    "**Question 6:** Again consider only price and carat weight.  What is the euclidean distance between the first diamond in the dataset and a diamond with carat weight 2 and price 5000\n",
    "\n",
    "*Note: leave the data as is, do not standardize it.*"
   ]
  },
  {
   "cell_type": "code",
   "execution_count": null,
   "metadata": {},
   "outputs": [],
   "source": []
  },
  {
   "cell_type": "markdown",
   "metadata": {},
   "source": [
    "**Question 7:** Again consider only price and carat weight.  Generate a table that contains the weight and price of the 5 **FURTHEST** neighbors of a diamond with carat weight 2 and price 5000\n",
    "\n",
    "By furthest I mean the largest euclidean distance.\n",
    "\n",
    "*Note: leave the data as is, do not standardize it.*"
   ]
  },
  {
   "cell_type": "code",
   "execution_count": null,
   "metadata": {},
   "outputs": [],
   "source": []
  }
 ],
 "metadata": {
  "kernelspec": {
   "display_name": "Python 3",
   "language": "python",
   "name": "python3"
  },
  "language_info": {
   "codemirror_mode": {
    "name": "ipython",
    "version": 3
   },
   "file_extension": ".py",
   "mimetype": "text/x-python",
   "name": "python",
   "nbconvert_exporter": "python",
   "pygments_lexer": "ipython3",
   "version": "3.8.3"
  }
 },
 "nbformat": 4,
 "nbformat_minor": 4
}
